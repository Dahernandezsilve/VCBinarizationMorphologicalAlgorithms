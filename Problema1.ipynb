{
 "cells": [
  {
   "cell_type": "markdown",
   "metadata": {},
   "source": [
    "Universidad del Valle de Guatemala\n",
    "Departamento de Computación\n",
    "Proyecto 1 - Visión por Computadora - Sección 10\n",
    "\n",
    "Integrantes:\n",
    "- Diego Alexander Hernández Silvestre - 21270\n",
    "- Linda Inés Jiménez Vides - 21169\n",
    "- José Andrés Auyón Cóbar - 201579 \n",
    " "
   ]
  }
 ],
 "metadata": {
  "language_info": {
   "name": "python"
  }
 },
 "nbformat": 4,
 "nbformat_minor": 2
}
